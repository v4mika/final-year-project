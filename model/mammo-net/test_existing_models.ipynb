{
 "cells": [
  {
   "cell_type": "code",
   "execution_count": 1,
   "metadata": {},
   "outputs": [],
   "source": [
    "import os\n",
    "from pathlib import Path\n",
    "import re\n",
    "import torch\n",
    "\n",
    "from data_utils import embed_data_dir\n",
    "from pytorch_lightning.callbacks import ModelCheckpoint\n",
    "from mammo_net_density import *"
   ]
  },
  {
   "cell_type": "code",
   "execution_count": 2,
   "metadata": {},
   "outputs": [],
   "source": [
    "train_csv_files = [\n",
    "    ('/vol/biomedic3/bglocker/ugproj/vg521/model/mammo-net/csv/train/cf-and-real-embed-train.csv', 'cf_and_real'),\n",
    "    ('/vol/biomedic3/bglocker/ugproj/vg521/model/mammo-net/csv/train/cf-embed-train.csv', 'cf_only'),\n",
    "    ('/vol/biomedic3/bglocker/ugproj/vg521/model/mammo-net/csv/train/real-embed-train.csv', 'real_only')\n",
    "]\n",
    "\n",
    "train_csv_dict = {key: value for (value, key) in train_csv_files}\n",
    "\n",
    "def extract_hparams_from_foldername(filename):\n",
    "    filename = filename.strip()\n",
    "    match = re.search(r'([^/]+)_bs(\\d+)_lr([\\d.]+)_epochs(\\d+)', filename)\n",
    "    if not match:\n",
    "        print('checkpoint folder name does not match expected pattern')\n",
    "    if match:\n",
    "        name_model, batch_size, learning_rate, epochs = match.groups()\n",
    "        \n",
    "        parts = name_model.rsplit('_', 1)\n",
    "        name, model = parts\n",
    "\n",
    "        batch_size = int(batch_size)\n",
    "        learning_rate = float(learning_rate)\n",
    "        epochs = int(epochs)\n",
    "        return {\n",
    "            'name': name,\n",
    "            'train_csv': train_csv_dict[name],\n",
    "            'model': model,\n",
    "            'batch_size': int(batch_size),\n",
    "            'learning_rate': float(learning_rate),\n",
    "            'epochs': int(epochs),\n",
    "            'seed': 42,\n",
    "            'num_devices': 1,\n",
    "            'num_workers': 6,\n",
    "            'batch_alpha': 1.0\n",
    "        }"
   ]
  },
  {
   "cell_type": "code",
   "execution_count": null,
   "metadata": {},
   "outputs": [],
   "source": [
    "test_csv = '/vol/biomedic3/bglocker/ugproj/vg521/model/mammo-net/csv/test/local-balanced-3397-test.csv'"
   ]
  },
  {
   "cell_type": "code",
   "execution_count": null,
   "metadata": {},
   "outputs": [
    {
     "name": "stderr",
     "output_type": "stream",
     "text": [
      "Seed set to 42\n"
     ]
    },
    {
     "name": "stdout",
     "output_type": "stream",
     "text": [
      "testing model in: /vol/biomedic3/bglocker/ugproj/vg521/model/mammo-net/final_models/real_only_resnet50_bs64_lr0.0001_epochs5\n",
      "<All keys matched successfully>\n",
      "Dataset size (2.6 GiB) fits in cache limit (4 GiB). Allocating space to cache all 18857 samples.\n"
     ]
    },
    {
     "name": "stderr",
     "output_type": "stream",
     "text": [
      "/vol/biomedic3/bglocker/ugproj/vg521/counterfactuals/cf-env/lib/python3.12/site-packages/lightning_fabric/plugins/environments/slurm.py:204: The `srun` command is available on your system but is not used. HINT: If your intention is to run Lightning on SLURM, prepend your python command with `srun` like so: srun python /vol/biomedic3/bglocker/ugproj/vg521/counterfactuals ...\n",
      "Using 16bit Automatic Mixed Precision (AMP)\n"
     ]
    },
    {
     "name": "stdout",
     "output_type": "stream",
     "text": [
      "Creating `WeightedFixedBatchSampler`...\n",
      "Sample population absolute class sizes: [9247 9610]\n",
      "Sample population relative class sizes: [0.49037493 0.50962507]\n",
      "Target batch class distribution [0.5 0.5] using alpha=1.0\n",
      "Rounded batch class distribution [0.5 0.5]\n",
      "Expecting [32 32] samples of each class per batch, over 294 batches of size 64\n",
      "Sampling rates: [1.01741105 0.97898023]\n",
      "samples (train):  18857\n",
      "samples (val):    4722\n",
      "samples (test):   3397\n",
      "[9247 9610]\n",
      "[2433 2289]\n",
      "[1813 1584]\n"
     ]
    },
    {
     "name": "stderr",
     "output_type": "stream",
     "text": [
      "GPU available: True (cuda), used: True\n",
      "TPU available: False, using: 0 TPU cores\n",
      "HPU available: False, using: 0 HPUs\n",
      "Restoring states from the checkpoint path at /vol/biomedic3/bglocker/ugproj/vg521/model/mammo-net/final_models/real_only_resnet50_bs64_lr0.0001_epochs5/version_0/checkpoints/epoch=1-step=588.ckpt\n"
     ]
    },
    {
     "name": "stdout",
     "output_type": "stream",
     "text": [
      "TESTING...\n"
     ]
    },
    {
     "name": "stderr",
     "output_type": "stream",
     "text": [
      "/vol/biomedic3/bglocker/ugproj/vg521/counterfactuals/cf-env/lib/python3.12/site-packages/pytorch_lightning/trainer/call.py:282: Be aware that when using `ckpt_path`, callbacks used to create the checkpoint need to be provided during `Trainer` instantiation. Please add the following callbacks: [\"EarlyStopping{'monitor': 'val_auc', 'mode': 'max'}\"].\n",
      "/vol/biomedic3/bglocker/ugproj/vg521/counterfactuals/cf-env/lib/python3.12/site-packages/pytorch_lightning/callbacks/model_checkpoint.py:362: The dirpath has changed from 'final_models/real_only_resnet50_bs64_lr0.0001_epochs5/version_0/checkpoints' to '/vol/biomedic3/bglocker/ugproj/vg521/model/mammo-net/lightning_logs/version_3/checkpoints', therefore `best_model_score`, `kth_best_model_path`, `kth_value`, `last_model_path` and `best_k_models` won't be reloaded. Only `best_model_path` will be reloaded.\n",
      "LOCAL_RANK: 0 - CUDA_VISIBLE_DEVICES: [0]\n",
      "Loaded model weights from the checkpoint at /vol/biomedic3/bglocker/ugproj/vg521/model/mammo-net/final_models/real_only_resnet50_bs64_lr0.0001_epochs5/version_0/checkpoints/epoch=1-step=588.ckpt\n"
     ]
    },
    {
     "data": {
      "application/vnd.jupyter.widget-view+json": {
       "model_id": "4d8c82d0a1e94fc6b7523b470d252d68",
       "version_major": 2,
       "version_minor": 0
      },
      "text/plain": [
       "Testing: |          | 0/? [00:00<?, ?it/s]"
      ]
     },
     "metadata": {},
     "output_type": "display_data"
    },
    {
     "name": "stdout",
     "output_type": "stream",
     "text": [
      "────────────────────────────────────────────────────────────────────────────────────────────────────────────────────────\n",
      "       Test metric             DataLoader 0\n",
      "────────────────────────────────────────────────────────────────────────────────────────────────────────────────────────\n",
      "        test_auc            0.9773865938186646\n",
      "        test_loss           0.19482684135437012\n",
      "────────────────────────────────────────────────────────────────────────────────────────────────────────────────────────\n",
      "testing model in: /vol/biomedic3/bglocker/ugproj/vg521/model/mammo-net/final_models/real_only_resnet50_bs256_lr0.0005_epochs5\n",
      "<All keys matched successfully>\n",
      "Dataset size (2.6 GiB) fits in cache limit (4 GiB). Allocating space to cache all 18868 samples.\n"
     ]
    },
    {
     "name": "stderr",
     "output_type": "stream",
     "text": [
      "/vol/biomedic3/bglocker/ugproj/vg521/counterfactuals/cf-env/lib/python3.12/site-packages/lightning_fabric/plugins/environments/slurm.py:204: The `srun` command is available on your system but is not used. HINT: If your intention is to run Lightning on SLURM, prepend your python command with `srun` like so: srun python /vol/biomedic3/bglocker/ugproj/vg521/counterfactuals ...\n",
      "Using 16bit Automatic Mixed Precision (AMP)\n",
      "GPU available: True (cuda), used: True\n",
      "TPU available: False, using: 0 TPU cores\n",
      "HPU available: False, using: 0 HPUs\n",
      "Restoring states from the checkpoint path at /vol/biomedic3/bglocker/ugproj/vg521/model/mammo-net/final_models/real_only_resnet50_bs256_lr0.0005_epochs5/version_0/checkpoints/epoch=1-step=146.ckpt\n"
     ]
    },
    {
     "name": "stdout",
     "output_type": "stream",
     "text": [
      "Creating `WeightedFixedBatchSampler`...\n",
      "Sample population absolute class sizes: [9392 9476]\n",
      "Sample population relative class sizes: [0.49777401 0.50222599]\n",
      "Target batch class distribution [0.5 0.5] using alpha=1.0\n",
      "Rounded batch class distribution [0.5 0.5]\n",
      "Expecting [128 128] samples of each class per batch, over 73 batches of size 256\n",
      "Sampling rates: [0.99488927 0.98607007]\n",
      "samples (train):  18868\n",
      "samples (val):    4711\n",
      "samples (test):   3397\n",
      "[9392 9476]\n",
      "[2288 2423]\n",
      "[1813 1584]\n",
      "TESTING...\n"
     ]
    },
    {
     "name": "stderr",
     "output_type": "stream",
     "text": [
      "/vol/biomedic3/bglocker/ugproj/vg521/counterfactuals/cf-env/lib/python3.12/site-packages/pytorch_lightning/trainer/call.py:282: Be aware that when using `ckpt_path`, callbacks used to create the checkpoint need to be provided during `Trainer` instantiation. Please add the following callbacks: [\"EarlyStopping{'monitor': 'val_auc', 'mode': 'max'}\"].\n",
      "/vol/biomedic3/bglocker/ugproj/vg521/counterfactuals/cf-env/lib/python3.12/site-packages/pytorch_lightning/callbacks/model_checkpoint.py:362: The dirpath has changed from 'final_models/real_only_resnet50_bs256_lr0.0005_epochs5/version_0/checkpoints' to '/vol/biomedic3/bglocker/ugproj/vg521/model/mammo-net/lightning_logs/version_4/checkpoints', therefore `best_model_score`, `kth_best_model_path`, `kth_value`, `last_model_path` and `best_k_models` won't be reloaded. Only `best_model_path` will be reloaded.\n",
      "LOCAL_RANK: 0 - CUDA_VISIBLE_DEVICES: [0]\n",
      "Loaded model weights from the checkpoint at /vol/biomedic3/bglocker/ugproj/vg521/model/mammo-net/final_models/real_only_resnet50_bs256_lr0.0005_epochs5/version_0/checkpoints/epoch=1-step=146.ckpt\n"
     ]
    },
    {
     "data": {
      "application/vnd.jupyter.widget-view+json": {
       "model_id": "799dd97354b04db18e44d4026fd828d3",
       "version_major": 2,
       "version_minor": 0
      },
      "text/plain": [
       "Testing: |          | 0/? [00:00<?, ?it/s]"
      ]
     },
     "metadata": {},
     "output_type": "display_data"
    },
    {
     "name": "stdout",
     "output_type": "stream",
     "text": [
      "────────────────────────────────────────────────────────────────────────────────────────────────────────────────────────\n",
      "       Test metric             DataLoader 0\n",
      "────────────────────────────────────────────────────────────────────────────────────────────────────────────────────────\n",
      "        test_auc            0.9762027263641357\n",
      "        test_loss           0.19659198820590973\n",
      "────────────────────────────────────────────────────────────────────────────────────────────────────────────────────────\n",
      "testing model in: /vol/biomedic3/bglocker/ugproj/vg521/model/mammo-net/final_models/cf_and_real_resnet50_bs64_lr0.0001_epochs5\n",
      "<All keys matched successfully>\n",
      "Dataset size (10.6 GiB) exceeds cache limit (4 GiB). Allocating space to cache 28532 / 75764 samples.\n"
     ]
    },
    {
     "ename": "KeyboardInterrupt",
     "evalue": "",
     "output_type": "error",
     "traceback": [
      "\u001b[31m---------------------------------------------------------------------------\u001b[39m",
      "\u001b[31mKeyboardInterrupt\u001b[39m                         Traceback (most recent call last)",
      "\u001b[36mCell\u001b[39m\u001b[36m \u001b[39m\u001b[32mIn[39]\u001b[39m\u001b[32m, line 36\u001b[39m\n\u001b[32m     33\u001b[39m ckpt = {key.replace(\u001b[33m'\u001b[39m\u001b[33mmodel.\u001b[39m\u001b[33m'\u001b[39m, \u001b[33m'\u001b[39m\u001b[33m'\u001b[39m): value \u001b[38;5;28;01mfor\u001b[39;00m key, value \u001b[38;5;129;01min\u001b[39;00m ckpt.items()}\n\u001b[32m     34\u001b[39m model = MammoNet(backbone=\u001b[33m'\u001b[39m\u001b[33mresnet50\u001b[39m\u001b[33m'\u001b[39m, learning_rate=hparams[\u001b[33m'\u001b[39m\u001b[33mlearning_rate\u001b[39m\u001b[33m'\u001b[39m], checkpoint=ckpt)\n\u001b[32m---> \u001b[39m\u001b[32m36\u001b[39m data = \u001b[43mEMBEDMammoDataModule\u001b[49m\u001b[43m(\u001b[49m\u001b[43mimage_size\u001b[49m\u001b[43m=\u001b[49m\u001b[43m(\u001b[49m\u001b[32;43m224\u001b[39;49m\u001b[43m,\u001b[49m\u001b[43m \u001b[49m\u001b[32;43m168\u001b[39;49m\u001b[43m)\u001b[49m\u001b[43m,\u001b[49m\n\u001b[32m     37\u001b[39m \u001b[43m                                \u001b[49m\u001b[43mval_percent\u001b[49m\u001b[43m=\u001b[49m\u001b[32;43m0.2\u001b[39;49m\u001b[43m,\u001b[49m\n\u001b[32m     38\u001b[39m \u001b[43m                                \u001b[49m\u001b[43mbatch_alpha\u001b[49m\u001b[43m=\u001b[49m\u001b[43mhparams\u001b[49m\u001b[43m[\u001b[49m\u001b[33;43m'\u001b[39;49m\u001b[33;43mbatch_alpha\u001b[39;49m\u001b[33;43m'\u001b[39;49m\u001b[43m]\u001b[49m\u001b[43m,\u001b[49m\n\u001b[32m     39\u001b[39m \u001b[43m                                \u001b[49m\u001b[43mbatch_size\u001b[49m\u001b[43m=\u001b[49m\u001b[43mhparams\u001b[49m\u001b[43m[\u001b[49m\u001b[33;43m'\u001b[39;49m\u001b[33;43mbatch_size\u001b[39;49m\u001b[33;43m'\u001b[39;49m\u001b[43m]\u001b[49m\u001b[43m,\u001b[49m\n\u001b[32m     40\u001b[39m \u001b[43m                                \u001b[49m\u001b[43mtrain_csv\u001b[49m\u001b[43m=\u001b[49m\u001b[43mhparams\u001b[49m\u001b[43m[\u001b[49m\u001b[33;43m'\u001b[39;49m\u001b[33;43mtrain_csv\u001b[39;49m\u001b[33;43m'\u001b[39;49m\u001b[43m]\u001b[49m\u001b[43m,\u001b[49m\n\u001b[32m     41\u001b[39m \u001b[43m                                \u001b[49m\u001b[43mtest_csv\u001b[49m\u001b[43m=\u001b[49m\u001b[43mtest_csv_path\u001b[49m\u001b[43m,\u001b[49m\n\u001b[32m     42\u001b[39m \u001b[43m                                \u001b[49m\u001b[43mnum_workers\u001b[49m\u001b[43m=\u001b[49m\u001b[43mhparams\u001b[49m\u001b[43m[\u001b[49m\u001b[33;43m'\u001b[39;49m\u001b[33;43mnum_workers\u001b[39;49m\u001b[33;43m'\u001b[39;49m\u001b[43m]\u001b[49m\n\u001b[32m     43\u001b[39m \u001b[43m                                \u001b[49m\u001b[43m)\u001b[49m\n\u001b[32m     45\u001b[39m trainer = pl.Trainer(\n\u001b[32m     46\u001b[39m     max_epochs=hparams[\u001b[33m'\u001b[39m\u001b[33mepochs\u001b[39m\u001b[33m'\u001b[39m],\n\u001b[32m     47\u001b[39m     accelerator=\u001b[33m'\u001b[39m\u001b[33mauto\u001b[39m\u001b[33m'\u001b[39m,\n\u001b[32m   (...)\u001b[39m\u001b[32m     54\u001b[39m         ],\n\u001b[32m     55\u001b[39m )\n\u001b[32m     57\u001b[39m device = torch.device(\u001b[33m\"\u001b[39m\u001b[33mcuda\u001b[39m\u001b[33m\"\u001b[39m \u001b[38;5;28;01mif\u001b[39;00m torch.cuda.is_available() \u001b[38;5;28;01melse\u001b[39;00m \u001b[33m\"\u001b[39m\u001b[33mcpu\u001b[39m\u001b[33m\"\u001b[39m)\n",
      "\u001b[36mFile \u001b[39m\u001b[32m/vol/biomedic3/bglocker/ugproj/vg521/model/mammo-net/mammo_net_density.py:218\u001b[39m, in \u001b[36mEMBEDMammoDataModule.__init__\u001b[39m\u001b[34m(self, train_csv, test_csv, image_size, val_percent, batch_alpha, batch_size, num_workers)\u001b[39m\n\u001b[32m    215\u001b[39m val_df = \u001b[38;5;28mself\u001b[39m.train_data[\u001b[38;5;28mself\u001b[39m.train_data[\u001b[33m'\u001b[39m\u001b[33msplit\u001b[39m\u001b[33m'\u001b[39m] == \u001b[33m'\u001b[39m\u001b[33mvalidation\u001b[39m\u001b[33m'\u001b[39m]\n\u001b[32m    217\u001b[39m \u001b[38;5;66;03m# Dataset objects\u001b[39;00m\n\u001b[32m--> \u001b[39m\u001b[32m218\u001b[39m \u001b[38;5;28mself\u001b[39m.train_set = \u001b[43mMammoDataset\u001b[49m\u001b[43m(\u001b[49m\u001b[43mtrain_df\u001b[49m\u001b[43m,\u001b[49m\u001b[43m \u001b[49m\u001b[38;5;28;43mself\u001b[39;49m\u001b[43m.\u001b[49m\u001b[43mimage_size\u001b[49m\u001b[43m,\u001b[49m\u001b[43m \u001b[49m\u001b[43mimage_normalization\u001b[49m\u001b[43m=\u001b[49m\u001b[32;43m65535.0\u001b[39;49m\u001b[43m,\u001b[49m\u001b[43m \u001b[49m\u001b[43mhorizontal_flip\u001b[49m\u001b[43m=\u001b[49m\u001b[38;5;28;43;01mTrue\u001b[39;49;00m\u001b[43m,\u001b[49m\u001b[43m \u001b[49m\u001b[43maugmentation\u001b[49m\u001b[43m=\u001b[49m\u001b[38;5;28;43;01mTrue\u001b[39;49;00m\u001b[43m,\u001b[49m\u001b[43m \u001b[49m\u001b[43mcache_size\u001b[49m\u001b[43m=\u001b[49m\u001b[32;43m4\u001b[39;49m\u001b[43m,\u001b[49m\u001b[43m \u001b[49m\u001b[43mtest_set\u001b[49m\u001b[43m=\u001b[49m\u001b[38;5;28;43;01mFalse\u001b[39;49;00m\u001b[43m)\u001b[49m\n\u001b[32m    219\u001b[39m \u001b[38;5;28mself\u001b[39m.val_set = MammoDataset(val_df, \u001b[38;5;28mself\u001b[39m.image_size, image_normalization=\u001b[32m65535.0\u001b[39m, horizontal_flip=\u001b[38;5;28;01mTrue\u001b[39;00m, augmentation=\u001b[38;5;28;01mFalse\u001b[39;00m, test_set=\u001b[38;5;28;01mFalse\u001b[39;00m)\n\u001b[32m    220\u001b[39m \u001b[38;5;28mself\u001b[39m.test_set = MammoDataset(\u001b[38;5;28mself\u001b[39m.test_data, \u001b[38;5;28mself\u001b[39m.image_size, image_normalization=\u001b[32m65535.0\u001b[39m, horizontal_flip=\u001b[38;5;28;01mTrue\u001b[39;00m, augmentation=\u001b[38;5;28;01mFalse\u001b[39;00m, test_set=\u001b[38;5;28;01mTrue\u001b[39;00m)\n",
      "\u001b[36mFile \u001b[39m\u001b[32m/vol/biomedic3/bglocker/ugproj/vg521/model/mammo-net/mammo_net_density.py:103\u001b[39m, in \u001b[36mMammoDataset.__init__\u001b[39m\u001b[34m(self, data, image_size, image_normalization, horizontal_flip, augmentation, cache_size, test_set)\u001b[39m\n\u001b[32m    101\u001b[39m \u001b[38;5;28mself\u001b[39m.use_cache = cache_size > \u001b[32m0\u001b[39m\n\u001b[32m    102\u001b[39m \u001b[38;5;28;01mif\u001b[39;00m \u001b[38;5;28mself\u001b[39m.use_cache:\n\u001b[32m--> \u001b[39m\u001b[32m103\u001b[39m     \u001b[38;5;28mself\u001b[39m.cache = \u001b[43mSharedCache\u001b[49m\u001b[43m(\u001b[49m\n\u001b[32m    104\u001b[39m \u001b[43m        \u001b[49m\u001b[43msize_limit_gib\u001b[49m\u001b[43m=\u001b[49m\u001b[43mcache_size\u001b[49m\u001b[43m,\u001b[49m\n\u001b[32m    105\u001b[39m \u001b[43m        \u001b[49m\u001b[43mdataset_len\u001b[49m\u001b[43m=\u001b[49m\u001b[38;5;28;43mself\u001b[39;49m\u001b[43m.\u001b[49m\u001b[43mlabels\u001b[49m\u001b[43m.\u001b[49m\u001b[43mshape\u001b[49m\u001b[43m[\u001b[49m\u001b[32;43m0\u001b[39;49m\u001b[43m]\u001b[49m\u001b[43m,\u001b[49m\n\u001b[32m    106\u001b[39m \u001b[43m        \u001b[49m\u001b[43mdata_dims\u001b[49m\u001b[43m=\u001b[49m\u001b[43m(\u001b[49m\u001b[32;43m1\u001b[39;49m\u001b[43m,\u001b[49m\u001b[43m \u001b[49m\u001b[43mimage_size\u001b[49m\u001b[43m[\u001b[49m\u001b[32;43m0\u001b[39;49m\u001b[43m]\u001b[49m\u001b[43m,\u001b[49m\u001b[43m \u001b[49m\u001b[43mimage_size\u001b[49m\u001b[43m[\u001b[49m\u001b[32;43m1\u001b[39;49m\u001b[43m]\u001b[49m\u001b[43m)\u001b[49m\u001b[43m,\u001b[49m\n\u001b[32m    107\u001b[39m \u001b[43m        \u001b[49m\u001b[43mdtype\u001b[49m\u001b[43m=\u001b[49m\u001b[43mtorch\u001b[49m\u001b[43m.\u001b[49m\u001b[43mfloat32\u001b[49m\u001b[43m,\u001b[49m\n\u001b[32m    108\u001b[39m \u001b[43m    \u001b[49m\u001b[43m)\u001b[49m\n",
      "\u001b[36mFile \u001b[39m\u001b[32m/vol/biomedic3/bglocker/ugproj/vg521/counterfactuals/cf-env/lib/python3.12/site-packages/stocaching/__init__.py:135\u001b[39m, in \u001b[36mSharedCache.__init__\u001b[39m\u001b[34m(self, size_limit_gib, dataset_len, data_dims, dtype)\u001b[39m\n\u001b[32m    128\u001b[39m     cache_len = dataset_len\n\u001b[32m    129\u001b[39m     \u001b[38;5;28mprint\u001b[39m(\n\u001b[32m    130\u001b[39m         \u001b[33mf\u001b[39m\u001b[33m\"\u001b[39m\u001b[33mDataset size (\u001b[39m\u001b[38;5;132;01m{\u001b[39;00mds_and_aux_bytes\u001b[38;5;250m \u001b[39m/\u001b[38;5;250m \u001b[39mBYTES_PER_GIB\u001b[38;5;132;01m:\u001b[39;00m\u001b[33m.1f\u001b[39m\u001b[38;5;132;01m}\u001b[39;00m\u001b[33m GiB)\u001b[39m\u001b[33m\"\u001b[39m\n\u001b[32m    131\u001b[39m         + \u001b[33mf\u001b[39m\u001b[33m\"\u001b[39m\u001b[33m fits in cache limit (\u001b[39m\u001b[38;5;132;01m{\u001b[39;00msize_limit_gib\u001b[38;5;132;01m}\u001b[39;00m\u001b[33m GiB).\u001b[39m\u001b[33m\"\u001b[39m\n\u001b[32m    132\u001b[39m         + \u001b[33mf\u001b[39m\u001b[33m\"\u001b[39m\u001b[33m Allocating space to cache all \u001b[39m\u001b[38;5;132;01m{\u001b[39;00mcache_len\u001b[38;5;132;01m}\u001b[39;00m\u001b[33m samples.\u001b[39m\u001b[33m\"\u001b[39m\n\u001b[32m    133\u001b[39m     )\n\u001b[32m--> \u001b[39m\u001b[32m135\u001b[39m shared_array_base = \u001b[43mmp\u001b[49m\u001b[43m.\u001b[49m\u001b[43mArray\u001b[49m\u001b[43m(\u001b[49m\n\u001b[32m    136\u001b[39m \u001b[43m    \u001b[49m\u001b[43mC_DTYPES\u001b[49m\u001b[43m[\u001b[49m\u001b[43mdtype\u001b[49m\u001b[43m]\u001b[49m\u001b[43m,\u001b[49m\u001b[43m \u001b[49m\u001b[38;5;28;43mint\u001b[39;49m\u001b[43m(\u001b[49m\u001b[43mnp\u001b[49m\u001b[43m.\u001b[49m\u001b[43mprod\u001b[49m\u001b[43m(\u001b[49m\u001b[43mdata_dims\u001b[49m\u001b[43m)\u001b[49m\u001b[43m)\u001b[49m\u001b[43m \u001b[49m\u001b[43m*\u001b[49m\u001b[43m \u001b[49m\u001b[43mcache_len\u001b[49m\n\u001b[32m    137\u001b[39m \u001b[43m\u001b[49m\u001b[43m)\u001b[49m\n\u001b[32m    138\u001b[39m shared_array = np.ctypeslib.as_array(shared_array_base.get_obj())\n\u001b[32m    139\u001b[39m shared_array = shared_array.reshape((cache_len, *data_dims))\n",
      "\u001b[36mFile \u001b[39m\u001b[32m/usr/lib/python3.12/multiprocessing/context.py:141\u001b[39m, in \u001b[36mBaseContext.Array\u001b[39m\u001b[34m(self, typecode_or_type, size_or_initializer, lock)\u001b[39m\n\u001b[32m    139\u001b[39m \u001b[38;5;250m\u001b[39m\u001b[33;03m'''Returns a synchronized shared array'''\u001b[39;00m\n\u001b[32m    140\u001b[39m \u001b[38;5;28;01mfrom\u001b[39;00m\u001b[38;5;250m \u001b[39m\u001b[34;01m.\u001b[39;00m\u001b[34;01msharedctypes\u001b[39;00m\u001b[38;5;250m \u001b[39m\u001b[38;5;28;01mimport\u001b[39;00m Array\n\u001b[32m--> \u001b[39m\u001b[32m141\u001b[39m \u001b[38;5;28;01mreturn\u001b[39;00m \u001b[43mArray\u001b[49m\u001b[43m(\u001b[49m\u001b[43mtypecode_or_type\u001b[49m\u001b[43m,\u001b[49m\u001b[43m \u001b[49m\u001b[43msize_or_initializer\u001b[49m\u001b[43m,\u001b[49m\u001b[43m \u001b[49m\u001b[43mlock\u001b[49m\u001b[43m=\u001b[49m\u001b[43mlock\u001b[49m\u001b[43m,\u001b[49m\n\u001b[32m    142\u001b[39m \u001b[43m             \u001b[49m\u001b[43mctx\u001b[49m\u001b[43m=\u001b[49m\u001b[38;5;28;43mself\u001b[39;49m\u001b[43m.\u001b[49m\u001b[43mget_context\u001b[49m\u001b[43m(\u001b[49m\u001b[43m)\u001b[49m\u001b[43m)\u001b[49m\n",
      "\u001b[36mFile \u001b[39m\u001b[32m/usr/lib/python3.12/multiprocessing/sharedctypes.py:88\u001b[39m, in \u001b[36mArray\u001b[39m\u001b[34m(typecode_or_type, size_or_initializer, lock, ctx)\u001b[39m\n\u001b[32m     84\u001b[39m \u001b[38;5;28;01mdef\u001b[39;00m\u001b[38;5;250m \u001b[39m\u001b[34mArray\u001b[39m(typecode_or_type, size_or_initializer, *, lock=\u001b[38;5;28;01mTrue\u001b[39;00m, ctx=\u001b[38;5;28;01mNone\u001b[39;00m):\n\u001b[32m     85\u001b[39m \u001b[38;5;250m    \u001b[39m\u001b[33;03m'''\u001b[39;00m\n\u001b[32m     86\u001b[39m \u001b[33;03m    Return a synchronization wrapper for a RawArray\u001b[39;00m\n\u001b[32m     87\u001b[39m \u001b[33;03m    '''\u001b[39;00m\n\u001b[32m---> \u001b[39m\u001b[32m88\u001b[39m     obj = \u001b[43mRawArray\u001b[49m\u001b[43m(\u001b[49m\u001b[43mtypecode_or_type\u001b[49m\u001b[43m,\u001b[49m\u001b[43m \u001b[49m\u001b[43msize_or_initializer\u001b[49m\u001b[43m)\u001b[49m\n\u001b[32m     89\u001b[39m     \u001b[38;5;28;01mif\u001b[39;00m lock \u001b[38;5;129;01mis\u001b[39;00m \u001b[38;5;28;01mFalse\u001b[39;00m:\n\u001b[32m     90\u001b[39m         \u001b[38;5;28;01mreturn\u001b[39;00m obj\n",
      "\u001b[36mFile \u001b[39m\u001b[32m/usr/lib/python3.12/multiprocessing/sharedctypes.py:62\u001b[39m, in \u001b[36mRawArray\u001b[39m\u001b[34m(typecode_or_type, size_or_initializer)\u001b[39m\n\u001b[32m     60\u001b[39m     type_ = type_ * size_or_initializer\n\u001b[32m     61\u001b[39m     obj = _new_value(type_)\n\u001b[32m---> \u001b[39m\u001b[32m62\u001b[39m     \u001b[43mctypes\u001b[49m\u001b[43m.\u001b[49m\u001b[43mmemset\u001b[49m\u001b[43m(\u001b[49m\u001b[43mctypes\u001b[49m\u001b[43m.\u001b[49m\u001b[43maddressof\u001b[49m\u001b[43m(\u001b[49m\u001b[43mobj\u001b[49m\u001b[43m)\u001b[49m\u001b[43m,\u001b[49m\u001b[43m \u001b[49m\u001b[32;43m0\u001b[39;49m\u001b[43m,\u001b[49m\u001b[43m \u001b[49m\u001b[43mctypes\u001b[49m\u001b[43m.\u001b[49m\u001b[43msizeof\u001b[49m\u001b[43m(\u001b[49m\u001b[43mobj\u001b[49m\u001b[43m)\u001b[49m\u001b[43m)\u001b[49m\n\u001b[32m     63\u001b[39m     \u001b[38;5;28;01mreturn\u001b[39;00m obj\n\u001b[32m     64\u001b[39m \u001b[38;5;28;01melse\u001b[39;00m:\n",
      "\u001b[31mKeyboardInterrupt\u001b[39m: "
     ]
    }
   ],
   "source": [
    "import importlib\n",
    "import mammo_net_density\n",
    "\n",
    "importlib.reload(mammo_net_density)\n",
    "\n",
    "results = []\n",
    "\n",
    "test_name = 'balanced-embed'\n",
    "\n",
    "ckpts_path = Path('/vol/biomedic3/bglocker/ugproj/vg521/model/mammo-net/final_models')\n",
    "# torch.set_float32_matmul_precision('medium')\n",
    "torch.set_float32_matmul_precision('high')\n",
    "                                       \n",
    "# sets seeds for numpy, torch, python.random and PYTHONHASHSEED.\n",
    "pl.seed_everything(seed=42, workers=True)\n",
    "\n",
    "for ckpt_path in ckpts_path.iterdir():\n",
    "\n",
    "    hparams = extract_hparams_from_foldername(os.path.basename(ckpt_path))\n",
    "    \n",
    "    if ckpt_path.is_dir():\n",
    "        print(f'testing model in: {ckpt_path}')\n",
    "\n",
    "    output_dir = os.path.join(ckpt_path,'test_existing_model_test')\n",
    "\n",
    "    # find the best checkpoint\n",
    "    ckpt_files = list(Path(ckpt_path/'version_0'/'checkpoints').glob('*.ckpt'))\n",
    "    if not ckpt_files:\n",
    "        print(f\"no checkpoint found for {ckpt_path}\")\n",
    "        continue\n",
    "    ckpt_path = str(ckpt_files[0])  \n",
    "    ckpt = torch.load(ckpt_path)['state_dict']\n",
    "    \n",
    "    ckpt = {key.replace('model.', ''): value for key, value in ckpt.items()}\n",
    "    model = MammoNet(backbone='resnet50', learning_rate=hparams['learning_rate'], checkpoint=ckpt)\n",
    "    \n",
    "    data = EMBEDMammoDataModule(image_size=(224, 168),\n",
    "                                    val_percent=0.2,\n",
    "                                    batch_alpha=hparams['batch_alpha'],\n",
    "                                    batch_size=hparams['batch_size'],\n",
    "                                    train_csv=hparams['train_csv'],\n",
    "                                    test_csv=test_csv_path,\n",
    "                                    num_workers=hparams['num_workers']\n",
    "                                    )\n",
    "    \n",
    "    trainer = pl.Trainer(\n",
    "        max_epochs=hparams['epochs'],\n",
    "        accelerator='auto',\n",
    "        devices=hparams['num_devices'],\n",
    "        precision='16-mixed',\n",
    "        num_sanity_val_steps=0,\n",
    "        callbacks=[\n",
    "            ModelCheckpoint(monitor='val_auc', mode='max'), \n",
    "            TQDMProgressBar(refresh_rate=10) \n",
    "            ],\n",
    "    )\n",
    "    \n",
    "    device = torch.device(\"cuda\" if torch.cuda.is_available() else \"cpu\")\n",
    "    model.eval()\n",
    "    model.to(device)\n",
    "\n",
    "    print('TESTING...')\n",
    "    test_result = trainer.test(model=model, datamodule=data, ckpt_path=ckpt_path)\n",
    "    save_predictions(model=model, output_fname=os.path.join(ckpt_path, 'predictions-{test_name}.csv'))\n",
    "\n",
    "    results.append({\n",
    "        'name': hp\n",
    "        'model': hparams['model'],\n",
    "        'batch_size': hparams['batch_size'],\n",
    "        'learning_rate': hparams['learning_rate'],\n",
    "        'epochs': hparams['epochs'],\n",
    "        'test_auc': test_result.get('test_auc', 'NA'),\n",
    "        'test_loss': test_result.get('test_loss', 'NA')\n",
    "    })\n"
   ]
  },
  {
   "cell_type": "code",
   "execution_count": null,
   "metadata": {},
   "outputs": [],
   "source": []
  }
 ],
 "metadata": {
  "kernelspec": {
   "display_name": "Python 3.12.3 ('cf-env': venv)",
   "language": "python",
   "name": "python3"
  },
  "language_info": {
   "codemirror_mode": {
    "name": "ipython",
    "version": 3
   },
   "file_extension": ".py",
   "mimetype": "text/x-python",
   "name": "python",
   "nbconvert_exporter": "python",
   "pygments_lexer": "ipython3",
   "version": "3.12.3"
  },
  "vscode": {
   "interpreter": {
    "hash": "c44aaee56f6fef5b9d0a18ca7aee582f2de86d199332597d0ae92442e313466c"
   }
  }
 },
 "nbformat": 4,
 "nbformat_minor": 4
}
